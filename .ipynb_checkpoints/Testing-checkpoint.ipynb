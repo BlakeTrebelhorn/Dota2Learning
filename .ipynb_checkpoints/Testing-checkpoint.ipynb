{
 "cells": [
  {
   "cell_type": "markdown",
   "metadata": {},
   "source": [
    "# Import Statements and Data"
   ]
  },
  {
   "cell_type": "code",
   "execution_count": 11,
   "metadata": {
    "collapsed": false
   },
   "outputs": [],
   "source": [
    "import pandas\n",
    "import time\n",
    "from sklearn.metrics import accuracy_score as acc\n",
    "from sklearn.externals import joblib\n",
    "from sklearn.svm import SVC\n",
    "from sklearn.neural_network import MLPClassifier as MLPC\n",
    "from sklearn.preprocessing import MinMaxScaler as MMS\n",
    "from sklearn.linear_model import LogisticRegression as LR\n",
    "from sklearn.model_selection import GridSearchCV as GSCV\n",
    "from sklearn.discriminant_analysis import LinearDiscriminantAnalysis as LDA\n",
    "from sklearn.ensemble import AdaBoostClassifier as ABC\n",
    "from sklearn.linear_model import SGDClassifier as SGDC\n",
    "from sklearn.ensemble import GradientBoostingClassifier as GBC\n",
    "\n",
    "\n",
    "training = pandas.read_csv('dota2Train.csv', header = None)\n",
    "training_data = training.iloc[:,1:]\n",
    "training_target = training.iloc[:,0]\n",
    "\n",
    "testing = pandas.read_csv('dota2Test.csv', header = None)\n",
    "testing_data = testing.iloc[:,1:]\n",
    "testing_target = testing.iloc[:,0]"
   ]
  },
  {
   "cell_type": "markdown",
   "metadata": {},
   "source": [
    "# Scaling the Data"
   ]
  },
  {
   "cell_type": "code",
   "execution_count": 12,
   "metadata": {
    "collapsed": false
   },
   "outputs": [],
   "source": [
    "mms = MMS()\n",
    "mms.fit(training_data)\n",
    "training_data_mms = mms.transform(training_data)\n",
    "testing_data_mms = mms.transform(testing_data)"
   ]
  },
  {
   "cell_type": "markdown",
   "metadata": {},
   "source": [
    "# Logistic Regression"
   ]
  },
  {
   "cell_type": "code",
   "execution_count": 13,
   "metadata": {
    "collapsed": false
   },
   "outputs": [
    {
     "name": "stdout",
     "output_type": "stream",
     "text": [
      "0.597726831164\n"
     ]
    }
   ],
   "source": [
    "logistic_regressor = LR(C=10,solver='lbfgs',max_iter=400,n_jobs=-1)\n",
    "logistic_regressor.fit(training_data_mms,training_target)\n",
    "lr_pred = logistic_regressor.predict(testing_data_mms)\n",
    "print(acc(lr_pred, testing_target))"
   ]
  },
  {
   "cell_type": "markdown",
   "metadata": {},
   "source": [
    "# Linear Discriminant Analysis"
   ]
  },
  {
   "cell_type": "code",
   "execution_count": 14,
   "metadata": {
    "collapsed": false
   },
   "outputs": [
    {
     "name": "stdout",
     "output_type": "stream",
     "text": [
      "0.597726831164\n"
     ]
    }
   ],
   "source": [
    "lda = LDA(solver='lsqr')\n",
    "lda.fit(training_data,training_target)\n",
    "lda_pred = lda.predict(testing_data)\n",
    "print(acc(lda_pred, testing_target))"
   ]
  },
  {
   "cell_type": "markdown",
   "metadata": {},
   "source": [
    "# AdaBoost Classifier"
   ]
  },
  {
   "cell_type": "code",
   "execution_count": 15,
   "metadata": {
    "collapsed": false
   },
   "outputs": [
    {
     "name": "stdout",
     "output_type": "stream",
     "text": [
      "0.591898193122\n"
     ]
    }
   ],
   "source": [
    "abc = ABC(n_estimators=110)\n",
    "abc.fit(training_data,training_target)\n",
    "abc_pred = abc.predict(testing_data)\n",
    "print(acc(abc_pred, testing_target))"
   ]
  },
  {
   "cell_type": "markdown",
   "metadata": {},
   "source": [
    "# SGD Classifier"
   ]
  },
  {
   "cell_type": "code",
   "execution_count": 16,
   "metadata": {
    "collapsed": false
   },
   "outputs": [
    {
     "name": "stdout",
     "output_type": "stream",
     "text": [
      "0.592189625024\n"
     ]
    }
   ],
   "source": [
    "sgdc_final = SGDC(n_jobs=-1, loss='modified_huber', penalty='elasticnet', learning_rate='invscaling', eta0=0.025)\n",
    "sgdc_final.fit(training_data_mms,training_target)\n",
    "sgdc_final_pred = sgdc_final.predict(testing_data_mms)\n",
    "print(acc(sgdc_final_pred,testing_target))"
   ]
  },
  {
   "cell_type": "markdown",
   "metadata": {},
   "source": [
    "# GradientBoost Classifier"
   ]
  },
  {
   "cell_type": "code",
   "execution_count": 17,
   "metadata": {
    "collapsed": false
   },
   "outputs": [
    {
     "name": "stdout",
     "output_type": "stream",
     "text": [
      "0.599572566544\n"
     ]
    }
   ],
   "source": [
    "gbc = GBC(loss='exponential', n_estimators=1000, max_depth=3)\n",
    "gbc.fit(training_data,training_target)\n",
    "gbc_pred = gbc.predict(testing_data)\n",
    "print(acc(gbc_pred, testing_target))"
   ]
  },
  {
   "cell_type": "markdown",
   "metadata": {},
   "source": [
    "# Multilayer Perceptron"
   ]
  },
  {
   "cell_type": "code",
   "execution_count": 19,
   "metadata": {
    "collapsed": false
   },
   "outputs": [
    {
     "name": "stdout",
     "output_type": "stream",
     "text": [
      "0.596075383719\n"
     ]
    }
   ],
   "source": [
    "mlpc = MLPC(activation='logistic', solver='lbfgs', hidden_layer_sizes=59)\n",
    "mlpc.fit(training_data,training_target)\n",
    "mlpc_pred = mlpc.predict(testing_data)\n",
    "print(acc(mlpc_pred, testing_target))"
   ]
  }
 ],
 "metadata": {
  "anaconda-cloud": {},
  "kernelspec": {
   "display_name": "Python [default]",
   "language": "python",
   "name": "python3"
  },
  "language_info": {
   "codemirror_mode": {
    "name": "ipython",
    "version": 3
   },
   "file_extension": ".py",
   "mimetype": "text/x-python",
   "name": "python",
   "nbconvert_exporter": "python",
   "pygments_lexer": "ipython3",
   "version": "3.5.2"
  }
 },
 "nbformat": 4,
 "nbformat_minor": 1
}
