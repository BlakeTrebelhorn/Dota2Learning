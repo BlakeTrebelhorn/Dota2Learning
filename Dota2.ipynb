{
 "cells": [
  {
   "cell_type": "code",
   "execution_count": 1,
   "metadata": {},
   "outputs": [],
   "source": [
    "import pandas\n",
    "from sklearn.model_selection import train_test_split as tts\n",
    "from sklearn.metrics import accuracy_score as acc\n",
    "from sklearn.ensemble import RandomForestClassifier as RFC\n",
    "from sklearn.linear_model import Perceptron\n",
    "from sklearn.svm import SVC\n",
    "from sklearn.neural_network import MLPClassifier as MLPC\n",
    "\n",
    "\n",
    "dota_data = pandas.read_csv('dota2Train.csv', header = None)"
   ]
  },
  {
   "cell_type": "code",
   "execution_count": 2,
   "metadata": {},
   "outputs": [],
   "source": [
    "(training_data, validation_data) = tts(dota_data, test_size = .20)"
   ]
  },
  {
   "cell_type": "code",
   "execution_count": 62,
   "metadata": {},
   "outputs": [
    {
     "name": "stdout",
     "output_type": "stream",
     "text": [
      "0.569886670264\n"
     ]
    }
   ],
   "source": [
    "rfc = RFC(n_jobs=-1, n_estimators=100, max_features=0.5)\n",
    "rfc.fit(training_data.iloc[:,1:],training_data.iloc[:,0])\n",
    "rfc_pred = rfc.predict(validation_data.iloc[:,1:])\n",
    "print(acc(rfc_pred, validation_data.iloc[:,0]))"
   ]
  },
  {
   "cell_type": "code",
   "execution_count": 66,
   "metadata": {},
   "outputs": [
    {
     "name": "stdout",
     "output_type": "stream",
     "text": [
      "0.58553696708\n"
     ]
    }
   ],
   "source": [
    "perc = Perceptron(n_jobs=-1, n_iter=1001,eta0=0.1)\n",
    "perc.fit(training_data.iloc[:,1:],training_data.iloc[:,0])\n",
    "perc_pred = perc.predict(validation_data.iloc[:,1:])\n",
    "print(acc(perc_pred, validation_data.iloc[:,0]))"
   ]
  },
  {
   "cell_type": "code",
   "execution_count": 16,
   "metadata": {},
   "outputs": [
    {
     "name": "stdout",
     "output_type": "stream",
     "text": [
      "0.59422558014\n"
     ]
    }
   ],
   "source": [
    "mlpc = MLPC(hidden_layer_sizes=(115,115,115,115,115,115), activation='tanh', max_iter=500)\n",
    "mlpc.fit(training_data.iloc[:,1:],training_data.iloc[:,0])\n",
    "mlpc_pred = mlpc.predict(validation_data.iloc[:,1:])\n",
    "print(acc(mlpc_pred, validation_data.iloc[:,0]))"
   ]
  },
  {
   "cell_type": "code",
   "execution_count": null,
   "metadata": {},
   "outputs": [],
   "source": [
    "svc = SVC()\n",
    "svc.fit(training_data.iloc[:,1:],training_data.iloc[:,0])\n",
    "svc_pred = svc.predict(validation.iloc[:,1:])\n",
    "print(acc(svc_pred, validation_data.iloc[:,0]))"
   ]
  },
  {
   "cell_type": "code",
   "execution_count": null,
   "metadata": {},
   "outputs": [],
   "source": [
    "linear_svc = SVC(kernel='linear')\n",
    "linear_svc.fit(training_data.iloc[:,1:],training_data.iloc[:,0])\n",
    "linear_svc_pred = linear_svc(validation.iloc[:,1:])\n",
    "print(acc(linear_svc_pred, validation_data.iloc[:,0]))"
   ]
  }
 ],
 "metadata": {
  "kernelspec": {
   "display_name": "Python [default]",
   "language": "python",
   "name": "python3"
  },
  "language_info": {
   "codemirror_mode": {
    "name": "ipython",
    "version": 3
   },
   "file_extension": ".py",
   "mimetype": "text/x-python",
   "name": "python",
   "nbconvert_exporter": "python",
   "pygments_lexer": "ipython3",
   "version": "3.5.2"
  }
 },
 "nbformat": 4,
 "nbformat_minor": 1
}
