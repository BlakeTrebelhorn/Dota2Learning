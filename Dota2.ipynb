{
 "cells": [
  {
   "cell_type": "code",
   "execution_count": 2,
   "metadata": {
    "collapsed": true
   },
   "outputs": [],
   "source": [
    "import pandas\n",
    "import time\n",
    "from sklearn.model_selection import train_test_split as tts\n",
    "from sklearn.metrics import accuracy_score as acc\n",
    "from sklearn.externals import joblib\n",
    "from sklearn.ensemble import RandomForestClassifier as RFC\n",
    "from sklearn.linear_model import Perceptron\n",
    "from sklearn.svm import SVC\n",
    "from sklearn.neural_network import MLPClassifier as MLPC\n",
    "from sklearn.naive_bayes import GaussianNB as GNB\n",
    "from sklearn.naive_bayes import BernoulliNB as BNB\n",
    "from sklearn.naive_bayes import MultinomialNB as MNB\n",
    "from sklearn.preprocessing import MinMaxScaler as MMS\n",
    "\n",
    "\n",
    "dota_data = pandas.read_csv('dota2Train.csv', header = None)"
   ]
  },
  {
   "cell_type": "code",
   "execution_count": 3,
   "metadata": {
    "collapsed": false
   },
   "outputs": [],
   "source": [
    "(training_data, validation_data) = tts(dota_data, test_size = .15)\n",
    "\n",
    "mms = MMS()\n",
    "training_data_temp = mms.fit_transform(training_data)\n",
    "validation_data_temp = mms.fit_transform(validation_data)\n",
    "\n",
    "training_data_mms = pandas.DataFrame(data=training_data_temp[:,:])\n",
    "validation_data_mms = pandas.DataFrame(data=validation_data_temp[:,:])"
   ]
  },
  {
   "cell_type": "code",
   "execution_count": 62,
   "metadata": {
    "collapsed": false
   },
   "outputs": [
    {
     "name": "stdout",
     "output_type": "stream",
     "text": [
      "0.569886670264\n"
     ]
    }
   ],
   "source": [
    "rfc = RFC(n_jobs=-1, n_estimators=100, max_features=0.5)\n",
    "rfc.fit(training_data.iloc[:,1:],training_data.iloc[:,0])\n",
    "rfc_pred = rfc.predict(validation_data.iloc[:,1:])\n",
    "print(acc(rfc_pred, validation_data.iloc[:,0]))"
   ]
  },
  {
   "cell_type": "code",
   "execution_count": 66,
   "metadata": {
    "collapsed": false
   },
   "outputs": [
    {
     "name": "stdout",
     "output_type": "stream",
     "text": [
      "0.58553696708\n"
     ]
    }
   ],
   "source": [
    "perc = Perceptron(n_jobs=-1, n_iter=1001,eta0=0.1)\n",
    "perc.fit(training_data.iloc[:,1:],training_data.iloc[:,0])\n",
    "perc_pred = perc.predict(validation_data.iloc[:,1:])\n",
    "print(acc(perc_pred, validation_data.iloc[:,0]))"
   ]
  },
  {
   "cell_type": "code",
   "execution_count": 16,
   "metadata": {
    "collapsed": false
   },
   "outputs": [
    {
     "name": "stdout",
     "output_type": "stream",
     "text": [
      "0.59422558014\n"
     ]
    }
   ],
   "source": [
    "mlpc = MLPC(hidden_layer_sizes=(115,115,115,115,115,115), activation='tanh', max_iter=500)\n",
    "mlpc.fit(training_data.iloc[:,1:],training_data.iloc[:,0])\n",
    "mlpc_pred = mlpc.predict(validation_data.iloc[:,1:])\n",
    "print(acc(mlpc_pred, validation_data.iloc[:,0]))"
   ]
  },
  {
   "cell_type": "code",
   "execution_count": 23,
   "metadata": {
    "collapsed": false
   },
   "outputs": [
    {
     "name": "stdout",
     "output_type": "stream",
     "text": [
      "0.567203914232\n"
     ]
    }
   ],
   "source": [
    "bnb = BNB()\n",
    "bnb.fit(training_data.iloc[:,1:],training_data.iloc[:,0])\n",
    "bnb_pred = bnb.predict(validation_data.iloc[:,1:])\n",
    "print(acc(bnb_pred, validation_data.iloc[:,0]))"
   ]
  },
  {
   "cell_type": "code",
   "execution_count": 22,
   "metadata": {
    "collapsed": false
   },
   "outputs": [
    {
     "name": "stdout",
     "output_type": "stream",
     "text": [
      "0.56461361347\n"
     ]
    }
   ],
   "source": [
    "gnb = GNB()\n",
    "gnb.fit(training_data.iloc[:,1:],training_data.iloc[:,0])\n",
    "gnb_pred = gnb.predict(validation_data.iloc[:,1:])\n",
    "print(acc(gnb_pred, validation_data.iloc[:,0]))"
   ]
  },
  {
   "cell_type": "code",
   "execution_count": 21,
   "metadata": {
    "collapsed": false
   },
   "outputs": [
    {
     "name": "stdout",
     "output_type": "stream",
     "text": [
      "0.527917685998\n"
     ]
    }
   ],
   "source": [
    "mnb = MNB()\n",
    "mnb.fit(training_data_mms.iloc[:,1:],training_data_mms.iloc[:,0])\n",
    "mnb_pred = mnb.predict(validation_data_mms.iloc[:,1:])\n",
    "print(acc(mnb_pred, validation_data_mms.iloc[:,0]))"
   ]
  },
  {
   "cell_type": "code",
   "execution_count": null,
   "metadata": {
    "collapsed": false
   },
   "outputs": [
    {
     "name": "stdout",
     "output_type": "stream",
     "text": [
      "--- Training took 978.3524339199066 seconds ---\n",
      "0.583393293999\n",
      "--- 1071.2892246246338 seconds ---\n"
     ]
    }
   ],
   "source": [
    "start_time = time.time()\n",
    "svc = SVC(C=0.25)\n",
    "svc.fit(training_data.iloc[:,1:],training_data.iloc[:,0])\n",
    "print(\"--- Training took %s seconds ---\" % (time.time() - start_time))\n",
    "svc_pred = svc.predict(validation_data.iloc[:,1:])\n",
    "print(acc(svc_pred, validation_data.iloc[:,0]))\n",
    "print(\"--- %s seconds ---\" % (time.time() - start_time))"
   ]
  },
  {
   "cell_type": "code",
   "execution_count": 6,
   "metadata": {
    "collapsed": false
   },
   "outputs": [
    {
     "name": "stdout",
     "output_type": "stream",
     "text": [
      "--- Training took 1085.9452102184296 seconds ---\n",
      "0.519715066916\n",
      "--- Total time: 1223.8227014541626 seconds ---\n"
     ]
    }
   ],
   "source": [
    "start_time = time.time()\n",
    "sigmoid_svc = SVC(kernel='sigmoid')\n",
    "sigmoid_svc.fit(training_data.iloc[:,1:],training_data.iloc[:,0])\n",
    "print(\"--- Training took %s seconds ---\" % (time.time() - start_time))\n",
    "sigmoid_svc_pred = sigmoid_svc.predict(validation_data.iloc[:,1:])\n",
    "print(acc(sigmoid_svc_pred, validation_data.iloc[:,0]))\n",
    "print(\"--- Total time: %s seconds ---\" % (time.time() - start_time))"
   ]
  },
  {
   "cell_type": "code",
   "execution_count": 7,
   "metadata": {
    "collapsed": false
   },
   "outputs": [
    {
     "name": "stdout",
     "output_type": "stream",
     "text": [
      "--- Training took 6568.138354301453 seconds ---\n",
      "0.599150956972\n",
      "--- Total time: 6646.877037763596 seconds ---\n"
     ]
    }
   ],
   "source": [
    "start_time = time.time()\n",
    "linear_svc = SVC(kernel='linear')\n",
    "linear_svc.fit(training_data.iloc[:,1:],training_data.iloc[:,0])\n",
    "print(\"--- Training took %s seconds ---\" % (time.time() - start_time))\n",
    "linear_svc_pred = linear_svc.predict(validation_data.iloc[:,1:])\n",
    "print(acc(linear_svc_pred, validation_data.iloc[:,0]))\n",
    "print(\"--- Total time: %s seconds ---\" % (time.time() - start_time))"
   ]
  },
  {
   "cell_type": "code",
   "execution_count": 8,
   "metadata": {
    "collapsed": false
   },
   "outputs": [
    {
     "data": {
      "text/plain": [
       "['linear_svc.pkl']"
      ]
     },
     "execution_count": 8,
     "metadata": {},
     "output_type": "execute_result"
    }
   ],
   "source": [
    "joblib.dump(linear_svc, 'linear_svc.pkl')"
   ]
  }
 ],
 "metadata": {
  "anaconda-cloud": {},
  "kernelspec": {
   "display_name": "Python [default]",
   "language": "python",
   "name": "python3"
  },
  "language_info": {
   "codemirror_mode": {
    "name": "ipython",
    "version": 3
   },
   "file_extension": ".py",
   "mimetype": "text/x-python",
   "name": "python",
   "nbconvert_exporter": "python",
   "pygments_lexer": "ipython3",
   "version": "3.5.2"
  }
 },
 "nbformat": 4,
 "nbformat_minor": 1
}
