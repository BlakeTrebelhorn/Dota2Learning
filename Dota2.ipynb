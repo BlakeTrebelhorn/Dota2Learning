{
 "cells": [
  {
   "cell_type": "code",
   "execution_count": 37,
   "metadata": {},
   "outputs": [],
   "source": [
    "import pandas\n",
    "from sklearn.model_selection import train_test_split as tts\n",
    "from sklearn.metrics import accuracy_score as acc\n",
    "from sklearn.ensemble import RandomForestClassifier as RFC\n",
    "from sklearn.linear_model import Perceptron\n",
    "\n",
    "dota_data = pandas.read_csv('dota2Train.csv', header = None)"
   ]
  },
  {
   "cell_type": "code",
   "execution_count": 43,
   "metadata": {},
   "outputs": [],
   "source": [
    "(training_data, validation_data) = tts(dota_data, test_size = .20)"
   ]
  },
  {
   "cell_type": "code",
   "execution_count": 34,
   "metadata": {},
   "outputs": [
    {
     "name": "stdout",
     "output_type": "stream",
     "text": [
      "0.567026443605\n"
     ]
    }
   ],
   "source": [
    "rfc = RFC(n_jobs=-1, n_estimators=100, max_features=0.5)\n",
    "rfc.fit(training_data.iloc[:,1:],training_data.iloc[:,0])\n",
    "rfc_pred = rfc.predict(validation_data.iloc[:,1:])\n",
    "print(acc(rfc_pred, validation_data.iloc[:,0]))"
   ]
  },
  {
   "cell_type": "code",
   "execution_count": 46,
   "metadata": {},
   "outputs": [
    {
     "name": "stdout",
     "output_type": "stream",
     "text": [
      "0.912736103616\n"
     ]
    }
   ],
   "source": [
    "perc = Perceptron()\n",
    "perc.fit(training_data.iloc[:,1:],training_data.iloc[:,0])\n",
    "perc_pred = rfc.predict(validation_data.iloc[:,1:])\n",
    "print(acc(perc_pred, validation_data.iloc[:,0]))"
   ]
  }
 ],
 "metadata": {
  "kernelspec": {
   "display_name": "Python [default]",
   "language": "python",
   "name": "python3"
  },
  "language_info": {
   "codemirror_mode": {
    "name": "ipython",
    "version": 3
   },
   "file_extension": ".py",
   "mimetype": "text/x-python",
   "name": "python",
   "nbconvert_exporter": "python",
   "pygments_lexer": "ipython3",
   "version": "3.5.2"
  }
 },
 "nbformat": 4,
 "nbformat_minor": 1
}
